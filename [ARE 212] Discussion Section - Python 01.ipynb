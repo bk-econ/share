{
 "cells": [
  {
   "cell_type": "markdown",
   "metadata": {},
   "source": [
    "# [ARE 212] Discussion Section - Python 01\n",
    "\n"
   ]
  },
  {
   "cell_type": "markdown",
   "metadata": {},
   "source": [
    "## Introduction to `Python` Discussion Sections"
   ]
  },
  {
   "cell_type": "markdown",
   "metadata": {},
   "source": [
    "### Learning goals for this series of discussion sections"
   ]
  },
  {
   "cell_type": "markdown",
   "metadata": {},
   "source": [
    "1.  Build off of skills we developed with `R` to provide a basic familiarity of coding in `Python` (and deepen your overall understanding of coding for econometrics in the process)\n",
    "2.  From no `Python` experience to ability to follow [lecture applications](https://datahub.berkeley.edu/user/benjaminkrause/tree/ARE212_Materials)\n",
    " and engage in [bcourses discussions](https://bcourses.berkeley.edu/courses/1487913/discussion_topics) via `Python`\n",
    " \n",
    "(Note: I'm starting the numbering over so to keep things distinct from our `R` notes) "
   ]
  },
  {
   "cell_type": "markdown",
   "metadata": {},
   "source": [
    "### Source Material"
   ]
  },
  {
   "cell_type": "markdown",
   "metadata": {},
   "source": [
    "As before, these notes are the fruits of arduous labor of others.  My contributions are minimual -- and know that this will be much rougher than our journey thus far.  So please expect to find some code (and even explanation) errors (and assume them all to be mine). If you find any mistakes or you are knocking your head against a screen drentched in the red letters of <font color='red'>Error</font>/desperation/existential dread/rage, please [let me know](mailto:benjaminkrause@berkeley.edu) sooner rather than later.\n",
    "    \n",
    "The primary sources of these notes (and honestly the contributors of the real work here) are:\n",
    "- Ethan and in particular his EEP 153 Notes\n",
    "- [Computational and Inferential Thinking: The Foundations of Data Science](https://www.inferentialthinking.com/chapters/intro.html) which is the textbook for UC Berkeley's [Data 8: The Foundations of Data Science](http://data8.org/) course.  All of the notes, readings, labs, and assignments are fully available online as well.  For instance, here is [Spring 2020](http://data8.org/sp20/).\n",
    "- [Python Data Science Handbook](https://jakevdp.github.io/PythonDataScienceHandbook/)"
   ]
  },
  {
   "cell_type": "markdown",
   "metadata": {},
   "source": [
    "### [Wherefore](https://www.merriam-webster.com/words-at-play/wherefore-meaning-shakespeare) `R`'t thou?"
   ]
  },
  {
   "cell_type": "markdown",
   "metadata": {},
   "source": [
    "I'm going to attempt to both get us up to speed on `Python` (and I do very much include myself in \"us\") while also ensuring that you're coming out of this class with a solid coding foundation in at least one language.  \n",
    "\n",
    "For this reason, I'll also circulate an updated version of each of the remaining discussion sections over the next month so to ensure that you have a full set of notes for coding econometrics in `R` from this course.  \n",
    "\n",
    "I do not expect that we'll be devoting anymore time this semester to `R` in discussion section itself, but please do know that I'll be happy to field any questions via email/zoom/passenger pigeon/smoke signals throughout the sememster as well as to [infinity and beyond](https://www.youtube.com/watch?v=2VSYmGSJtCA).  So please do not feel shy about reaching out for anything `R`, `Python`, Econometrics, ARE, or life related (I'm not always the fastest in responses . . . and frankly I know relatively little about any of these topics, but I'm always happy to muddle through together).  \n",
    "\n",
    "In addition, if you haven't already discovered these, my very much more illustrious predecessors have their own sets of `R` notes for this class freely available on their respective websites, so know that you can always find more from [Ed Rubin](http://edrub.in/ARE212/Spring2017/notes.html) now at University of Oregon Econ and [Fiona Burlig](https://www.fionaburlig.com/teaching/are212) now at University of Chicago Harris School of Public Policy.\n",
    "\n",
    "Finally, as we're parting with `R` (at least during discussion section), to lessen your sweet sorrow, let me again recommend [R for Data Science](https://r4ds.had.co.nz/) as it is genuinely my favorite place to practice `R`.   "
   ]
  },
  {
   "cell_type": "markdown",
   "metadata": {},
   "source": [
    "### Class expectations for the rest of the semester "
   ]
  },
  {
   "cell_type": "markdown",
   "metadata": {},
   "source": [
    "- [Syllabus](https://github.com/ligonteaching/ARE212_Materials/blob/master/syllabus.pdf)\n",
    "- Keep up with [Ethan's materials](https://github.com/ligonteaching/ARE212_Materials) hosted on [github.com](https://github.com/)\n",
    "- [Discussion instead of Problem Sets](https://bcourses.berkeley.edu/courses/1487913/discussion_topics/5731445) (20% of your overall grade)\n",
    "    - Interactions take place in the bcourses [Discussions](https://bcourses.berkeley.edu/courses/1487913/discussion_topics) tab\n",
    "    - You are responsible to:\n",
    "        - Respond to two or more of my discussion prompts.  Posting a response will \"unlock\" the discussion for that item for you, so you'll be able to see the rest of the discussion thread.   Please post these responses by the end of Wednesday.\n",
    "        - Comment on at least three of the posts responding to the discussion prompt (i.e., comment on others comments).    A livelier discussion will result if you don't wait until the last minute (end of Sunday) to post these comments, so that there's some opportunity for dialog.\n",
    "    - \". . . we just want to see that you're contributing constructively to the conversation.\"\n",
    "- Final (30% of your overall grade)"
   ]
  },
  {
   "cell_type": "markdown",
   "metadata": {},
   "source": [
    "## Introduction to `Python`"
   ]
  },
  {
   "cell_type": "markdown",
   "metadata": {},
   "source": [
    "### Learning Goals Today"
   ]
  },
  {
   "cell_type": "markdown",
   "metadata": {},
   "source": [
    "1.  Open a `jupyter` notebook on `datahub.berkeley.edu`.\n",
    "2.  Understand simple `python` expressions.\n",
    "3.  Work with lists & dictionaries.\n",
    "4.  Work with `pandas.DataFrames`.\n",
    "5.  Submit indication of completion."
   ]
  },
  {
   "cell_type": "markdown",
   "metadata": {},
   "source": [
    "### 1. Open a `jupyter` notebook on `datahub.berkeley.edu`"
   ]
  },
  {
   "cell_type": "markdown",
   "metadata": {},
   "source": [
    "- "
   ]
  },
  {
   "cell_type": "markdown",
   "metadata": {},
   "source": [
    "#### Simple Expressions\n",
    "\n"
   ]
  },
  {
   "cell_type": "markdown",
   "metadata": {},
   "source": [
    "Python is a general purpose language, extended via *modules*.\n",
    "One important aspect of python are *expressions*.  Here are some examples:\n",
    "\n"
   ]
  },
  {
   "cell_type": "code",
   "execution_count": 14,
   "metadata": {},
   "outputs": [
    {
     "name": "stdout",
     "output_type": "stream",
     "text": [
      "2\n",
      "Helloworld!\n"
     ]
    }
   ],
   "source": [
    "# Arithmetic \n",
    "1 + 1\n",
    "\n",
    "# String (Delineated using single- or double-quotes)\n",
    "\"Hello world!\"\n",
    "\n",
    "# To see output, using a \"print\" statement:\n",
    "print(1+1)\n",
    "print(\"Hello\" + \"world!\")"
   ]
  },
  {
   "cell_type": "markdown",
   "metadata": {},
   "source": [
    "The above provides examples of:\n",
    "\n",
    "-   **Comments:** Text that begins with a &ldquo;#&rdquo; character.\n",
    "-   **Function calls:** Something that takes arguments (in parentheses)\n",
    "    and returns some output.  Here &ldquo;print&rdquo; is a\n",
    "    function.\n",
    "-   **Objects:** 1 and &ldquo;Hello&rdquo; are examples of objects.\n",
    "-   **Operators:** &ldquo;+&rdquo; is an operator.  Notice that it functions\n",
    "    differently depending on what it&rsquo;s operating on;\n",
    "    that&rsquo;s because its operation depends on the `type`\n",
    "    of the objects (*operands*) it&rsquo;s operating on.\n",
    "\n",
    "Predict the output of the following two lines:\n",
    "\n"
   ]
  },
  {
   "cell_type": "code",
   "execution_count": 2,
   "metadata": {},
   "outputs": [
    {
     "name": "stdout",
     "output_type": "stream",
     "text": [
      "<class 'int'>\n",
      "<class 'str'>\n"
     ]
    }
   ],
   "source": [
    "print(type(1+1))\n",
    "print(type(\"Hello\"))"
   ]
  },
  {
   "cell_type": "markdown",
   "metadata": {},
   "source": [
    "#### Lists\n",
    "\n"
   ]
  },
  {
   "cell_type": "markdown",
   "metadata": {},
   "source": [
    "Strings and integers are simple examples of different data types (or\n",
    "objects).  A very important type that is more complicated are\n",
    "`lists`.  Here are some examples.  Examine them, and predict the output:\n",
    "\n"
   ]
  },
  {
   "cell_type": "code",
   "execution_count": 3,
   "metadata": {},
   "outputs": [
    {
     "name": "stdout",
     "output_type": "stream",
     "text": [
      "[1, 2, 3, 'Hello', 'world']\n",
      "5\n"
     ]
    }
   ],
   "source": [
    "a = [1,2,3]\n",
    "b = [\"Hello\",\"world\"]\n",
    "\n",
    "c = a + b\n",
    "print(c)\n",
    "print(len(c))  # Here len returns the \"length\" of the list."
   ]
  },
  {
   "cell_type": "markdown",
   "metadata": {},
   "source": [
    "Extra optional practice to refresh yourself with list manipulation and slicing.\n",
    "Examine these first, then predict the output.\n",
    "\n"
   ]
  },
  {
   "cell_type": "code",
   "execution_count": 4,
   "metadata": {},
   "outputs": [
    {
     "name": "stdout",
     "output_type": "stream",
     "text": [
      "3\n",
      "[2]\n",
      "HelloHelloHelloHello\n",
      "[1, 3, 'world']\n",
      "[2, 4, 6]\n"
     ]
    }
   ],
   "source": [
    "print(c[2]) # Remember how Python counts arrays.\n",
    "print(c[1:2]) # Why does Python only return one item instead of two?\n",
    "print(b[0]*4)\n",
    "print(c[0::2])\n",
    "print(list(map(lambda x: x*2,a)))"
   ]
  },
  {
   "cell_type": "markdown",
   "metadata": {},
   "source": [
    "#### Dictionaries\n",
    "\n"
   ]
  },
  {
   "cell_type": "markdown",
   "metadata": {},
   "source": [
    "Another very basic kind of compound object are `dicts` (dictionaries;\n",
    "also called associative arrays or hashes in other languages).  Predict\n",
    "the output:\n",
    "\n"
   ]
  },
  {
   "cell_type": "code",
   "execution_count": 5,
   "metadata": {},
   "outputs": [
    {
     "name": "stdout",
     "output_type": "stream",
     "text": [
      "Barney the Dinosaur is Purple.\n"
     ]
    }
   ],
   "source": [
    "d = {'name': \"Barney\", 'species': \"Dinosaur\", 'age': 27, 'color': \"Purple\"}\n",
    "\n",
    "print(\"{name} the {species} is {color}.\".format(**d))"
   ]
  },
  {
   "cell_type": "markdown",
   "metadata": {},
   "source": [
    "#### DataFrames\n",
    "\n"
   ]
  },
  {
   "cell_type": "markdown",
   "metadata": {},
   "source": [
    "A much more complicated data structure is provided by a module called\n",
    "`pandas`; you can find a quick tutorial at\n",
    "[http://pandas.pydata.org/pandas-docs/version/0.23/10min.html](http://pandas.pydata.org/pandas-docs/version/0.23/10min.html).  The\n",
    "DataFrame object will be very important for us.\n",
    "\n",
    "The `pandas` module provides a data structure called a `DataFrame`.\n",
    "These are basically rectangular arrays of data, with names for rows\n",
    "and columns, rather like a spreadsheet.  In fact, one important thing\n",
    "one can do with DataFrames is to import data *from* spreadsheets.\n",
    "\n"
   ]
  },
  {
   "cell_type": "code",
   "execution_count": 6,
   "metadata": {},
   "outputs": [
    {
     "data": {
      "text/html": [
       "<div>\n",
       "<style scoped>\n",
       "    .dataframe tbody tr th:only-of-type {\n",
       "        vertical-align: middle;\n",
       "    }\n",
       "\n",
       "    .dataframe tbody tr th {\n",
       "        vertical-align: top;\n",
       "    }\n",
       "\n",
       "    .dataframe thead th {\n",
       "        text-align: right;\n",
       "    }\n",
       "</style>\n",
       "<table border=\"1\" class=\"dataframe\">\n",
       "  <thead>\n",
       "    <tr style=\"text-align: right;\">\n",
       "      <th></th>\n",
       "      <th>Food</th>\n",
       "      <th>Quantity</th>\n",
       "      <th>Units</th>\n",
       "      <th>Price</th>\n",
       "      <th>Date</th>\n",
       "      <th>Location</th>\n",
       "      <th>NDB</th>\n",
       "    </tr>\n",
       "  </thead>\n",
       "  <tbody>\n",
       "    <tr>\n",
       "      <th>0</th>\n",
       "      <td>Milk, 2% fat</td>\n",
       "      <td>1.0</td>\n",
       "      <td>gallon</td>\n",
       "      <td>4.99</td>\n",
       "      <td>[2019-09-14 Sat]</td>\n",
       "      <td>Monterey Market, Berkeley</td>\n",
       "      <td>45226447</td>\n",
       "    </tr>\n",
       "    <tr>\n",
       "      <th>1</th>\n",
       "      <td>Eggs, extra large</td>\n",
       "      <td>12.0</td>\n",
       "      <td>xl_egg</td>\n",
       "      <td>3.59</td>\n",
       "      <td>[2019-09-14 Sat]</td>\n",
       "      <td>Monterey Market, Berkeley</td>\n",
       "      <td>45208918</td>\n",
       "    </tr>\n",
       "    <tr>\n",
       "      <th>2</th>\n",
       "      <td>Crumpets</td>\n",
       "      <td>6.0</td>\n",
       "      <td>crumpet</td>\n",
       "      <td>3.19</td>\n",
       "      <td>[2019-09-14 Sat]</td>\n",
       "      <td>Monterey Market, Berkeley</td>\n",
       "      <td>45324369</td>\n",
       "    </tr>\n",
       "    <tr>\n",
       "      <th>3</th>\n",
       "      <td>Bananas</td>\n",
       "      <td>1.0</td>\n",
       "      <td>pound</td>\n",
       "      <td>3.15</td>\n",
       "      <td>[2019-09-14 Sat]</td>\n",
       "      <td>Monterey Market, Berkeley</td>\n",
       "      <td>9040</td>\n",
       "    </tr>\n",
       "    <tr>\n",
       "      <th>4</th>\n",
       "      <td>Carrots, Organic</td>\n",
       "      <td>2.0</td>\n",
       "      <td>pound</td>\n",
       "      <td>2.29</td>\n",
       "      <td>[2019-09-14 Sat]</td>\n",
       "      <td>Monterey Market, Berkeley</td>\n",
       "      <td>11124</td>\n",
       "    </tr>\n",
       "  </tbody>\n",
       "</table>\n",
       "</div>"
      ],
      "text/plain": [
       "                Food  Quantity    Units  Price              Date  \\\n",
       "0       Milk, 2% fat       1.0   gallon   4.99  [2019-09-14 Sat]   \n",
       "1  Eggs, extra large      12.0   xl_egg   3.59  [2019-09-14 Sat]   \n",
       "2           Crumpets       6.0  crumpet   3.19  [2019-09-14 Sat]   \n",
       "3            Bananas       1.0    pound   3.15  [2019-09-14 Sat]   \n",
       "4   Carrots, Organic       2.0    pound   2.29  [2019-09-14 Sat]   \n",
       "\n",
       "                    Location       NDB  \n",
       "0  Monterey Market, Berkeley  45226447  \n",
       "1  Monterey Market, Berkeley  45208918  \n",
       "2  Monterey Market, Berkeley  45324369  \n",
       "3  Monterey Market, Berkeley      9040  \n",
       "4  Monterey Market, Berkeley     11124  "
      ]
     },
     "execution_count": 6,
     "metadata": {},
     "output_type": "execute_result"
    }
   ],
   "source": [
    "import pandas as pd\n",
    "\n",
    "# Try looking at https://docs.google.com/spreadsheets/d/1ObK5N_5aVXzVHE7ZXWBg0kQvPS3k1enRwsUjhytwh5A in your browser.\n",
    "SHEET = \"https://docs.google.com/spreadsheets/d/1q1ikP1CXCcLf_Tq6VbhoskOYRvn_nDU5MHStIoVzMgA\"\n",
    "\n",
    "# The following line goes on-line and turns the spreadsheet into a pandas DataFrame:\n",
    "df = pd.read_csv(SHEET + \"/export?format=csv\")\n",
    "\n",
    "# This line will show us only the first five rows of data. Try removing .head() to see the full list of items.\n",
    "# Guess what happens if you replace .head() with .tail(). Try it out!\n",
    "df.head()"
   ]
  },
  {
   "cell_type": "markdown",
   "metadata": {},
   "source": [
    "If this worked (!) you should be able to see some data from a recent\n",
    "shopping trip of mine.  What are the different variables available in\n",
    "the DataFrame `df`?  They correspond to the *columns* of the spreadsheet.\n",
    "\n"
   ]
  },
  {
   "cell_type": "code",
   "execution_count": 7,
   "metadata": {},
   "outputs": [
    {
     "data": {
      "text/plain": [
       "Index(['Food', 'Quantity', 'Units', 'Price', 'Date', 'Location', 'NDB'], dtype='object')"
      ]
     },
     "execution_count": 7,
     "metadata": {},
     "output_type": "execute_result"
    }
   ],
   "source": [
    "df.columns"
   ]
  },
  {
   "cell_type": "markdown",
   "metadata": {},
   "source": [
    "Now, what else can we do?  Let&rsquo;s figure out how much my total grocery\n",
    "bill was:\n",
    "\n"
   ]
  },
  {
   "cell_type": "code",
   "execution_count": 8,
   "metadata": {},
   "outputs": [
    {
     "data": {
      "text/plain": [
       "72.22"
      ]
     },
     "execution_count": 8,
     "metadata": {},
     "output_type": "execute_result"
    }
   ],
   "source": [
    "df['Price'].sum()"
   ]
  },
  {
   "cell_type": "markdown",
   "metadata": {},
   "source": [
    "Let&rsquo;s say I&rsquo;m on a budget. Naturally, we&rsquo;d want to identify the item(s)\n",
    "I&rsquo;m spending the most on. We can sort the values to investigate further.\n",
    "\n"
   ]
  },
  {
   "cell_type": "code",
   "execution_count": 9,
   "metadata": {},
   "outputs": [
    {
     "data": {
      "text/html": [
       "<div>\n",
       "<style scoped>\n",
       "    .dataframe tbody tr th:only-of-type {\n",
       "        vertical-align: middle;\n",
       "    }\n",
       "\n",
       "    .dataframe tbody tr th {\n",
       "        vertical-align: top;\n",
       "    }\n",
       "\n",
       "    .dataframe thead th {\n",
       "        text-align: right;\n",
       "    }\n",
       "</style>\n",
       "<table border=\"1\" class=\"dataframe\">\n",
       "  <thead>\n",
       "    <tr style=\"text-align: right;\">\n",
       "      <th></th>\n",
       "      <th>Food</th>\n",
       "      <th>Quantity</th>\n",
       "      <th>Units</th>\n",
       "      <th>Price</th>\n",
       "      <th>Date</th>\n",
       "      <th>Location</th>\n",
       "      <th>NDB</th>\n",
       "    </tr>\n",
       "  </thead>\n",
       "  <tbody>\n",
       "    <tr>\n",
       "      <th>10</th>\n",
       "      <td>Mushrooms, King Oyster</td>\n",
       "      <td>1.00</td>\n",
       "      <td>pound</td>\n",
       "      <td>12.00</td>\n",
       "      <td>[2019-09-14 Sat]</td>\n",
       "      <td>Monterey Market, Berkeley</td>\n",
       "      <td>45218868</td>\n",
       "    </tr>\n",
       "    <tr>\n",
       "      <th>12</th>\n",
       "      <td>Orange juice</td>\n",
       "      <td>0.50</td>\n",
       "      <td>gallon</td>\n",
       "      <td>8.98</td>\n",
       "      <td>[2019-09-14 Sat]</td>\n",
       "      <td>Monterey Market, Berkeley</td>\n",
       "      <td>45213207</td>\n",
       "    </tr>\n",
       "    <tr>\n",
       "      <th>6</th>\n",
       "      <td>Endive, Red</td>\n",
       "      <td>1.26</td>\n",
       "      <td>pound</td>\n",
       "      <td>6.27</td>\n",
       "      <td>[2019-09-14 Sat]</td>\n",
       "      <td>Monterey Market, Berkeley</td>\n",
       "      <td>11213</td>\n",
       "    </tr>\n",
       "    <tr>\n",
       "      <th>9</th>\n",
       "      <td>Lettuce, Little Gem</td>\n",
       "      <td>1.00</td>\n",
       "      <td>pound</td>\n",
       "      <td>5.98</td>\n",
       "      <td>[2019-09-14 Sat]</td>\n",
       "      <td>Monterey Market, Berkeley</td>\n",
       "      <td>45276886</td>\n",
       "    </tr>\n",
       "    <tr>\n",
       "      <th>0</th>\n",
       "      <td>Milk, 2% fat</td>\n",
       "      <td>1.00</td>\n",
       "      <td>gallon</td>\n",
       "      <td>4.99</td>\n",
       "      <td>[2019-09-14 Sat]</td>\n",
       "      <td>Monterey Market, Berkeley</td>\n",
       "      <td>45226447</td>\n",
       "    </tr>\n",
       "  </tbody>\n",
       "</table>\n",
       "</div>"
      ],
      "text/plain": [
       "                      Food  Quantity   Units  Price              Date  \\\n",
       "10  Mushrooms, King Oyster      1.00   pound  12.00  [2019-09-14 Sat]   \n",
       "12            Orange juice      0.50  gallon   8.98  [2019-09-14 Sat]   \n",
       "6              Endive, Red      1.26   pound   6.27  [2019-09-14 Sat]   \n",
       "9      Lettuce, Little Gem      1.00   pound   5.98  [2019-09-14 Sat]   \n",
       "0             Milk, 2% fat      1.00  gallon   4.99  [2019-09-14 Sat]   \n",
       "\n",
       "                     Location       NDB  \n",
       "10  Monterey Market, Berkeley  45218868  \n",
       "12  Monterey Market, Berkeley  45213207  \n",
       "6   Monterey Market, Berkeley     11213  \n",
       "9   Monterey Market, Berkeley  45276886  \n",
       "0   Monterey Market, Berkeley  45226447  "
      ]
     },
     "execution_count": 9,
     "metadata": {},
     "output_type": "execute_result"
    }
   ],
   "source": [
    "# Note that we're indicating we want to sort by the 'Price' column and specify that it should be in descending order.\n",
    "df.sort_values(by='Price', ascending=False).head()"
   ]
  },
  {
   "cell_type": "markdown",
   "metadata": {},
   "source": [
    "Everything here looks straightforward, but let&rsquo;s take a closer look at\n",
    "Red Endive and calculate the price per pound to make comparison easier.\n",
    "\n"
   ]
  },
  {
   "cell_type": "code",
   "execution_count": 10,
   "metadata": {},
   "outputs": [
    {
     "data": {
      "text/plain": [
       "4.976190476190475"
      ]
     },
     "execution_count": 10,
     "metadata": {},
     "output_type": "execute_result"
    }
   ],
   "source": [
    "# This line selects the 7th item in the dataframe (note the index number is 6 because we start counting at 0 when we use Python)\n",
    "# and selects the 'Price' value for this particular item. It divides it by 'Quantity' to get the price per pound.\n",
    "df.iloc[6]['Price']/df.iloc[6]['Quantity']"
   ]
  },
  {
   "cell_type": "markdown",
   "metadata": {},
   "source": [
    "You&rsquo;ll find throughout the semester that unit price is a pretty useful statistic\n",
    "to calculate. Let&rsquo;s do it for all the items on this grocery list. Thankfully we\n",
    "don&rsquo;t have to do this one by one.\n",
    "\n"
   ]
  },
  {
   "cell_type": "code",
   "execution_count": 11,
   "metadata": {},
   "outputs": [
    {
     "data": {
      "text/html": [
       "<div>\n",
       "<style scoped>\n",
       "    .dataframe tbody tr th:only-of-type {\n",
       "        vertical-align: middle;\n",
       "    }\n",
       "\n",
       "    .dataframe tbody tr th {\n",
       "        vertical-align: top;\n",
       "    }\n",
       "\n",
       "    .dataframe thead th {\n",
       "        text-align: right;\n",
       "    }\n",
       "</style>\n",
       "<table border=\"1\" class=\"dataframe\">\n",
       "  <thead>\n",
       "    <tr style=\"text-align: right;\">\n",
       "      <th></th>\n",
       "      <th>Food</th>\n",
       "      <th>Quantity</th>\n",
       "      <th>Units</th>\n",
       "      <th>Price</th>\n",
       "      <th>Date</th>\n",
       "      <th>Location</th>\n",
       "      <th>NDB</th>\n",
       "      <th>Unit Price</th>\n",
       "    </tr>\n",
       "  </thead>\n",
       "  <tbody>\n",
       "    <tr>\n",
       "      <th>0</th>\n",
       "      <td>Milk, 2% fat</td>\n",
       "      <td>1.0</td>\n",
       "      <td>gallon</td>\n",
       "      <td>4.99</td>\n",
       "      <td>[2019-09-14 Sat]</td>\n",
       "      <td>Monterey Market, Berkeley</td>\n",
       "      <td>45226447</td>\n",
       "      <td>4.990000</td>\n",
       "    </tr>\n",
       "    <tr>\n",
       "      <th>1</th>\n",
       "      <td>Eggs, extra large</td>\n",
       "      <td>12.0</td>\n",
       "      <td>xl_egg</td>\n",
       "      <td>3.59</td>\n",
       "      <td>[2019-09-14 Sat]</td>\n",
       "      <td>Monterey Market, Berkeley</td>\n",
       "      <td>45208918</td>\n",
       "      <td>0.299167</td>\n",
       "    </tr>\n",
       "    <tr>\n",
       "      <th>2</th>\n",
       "      <td>Crumpets</td>\n",
       "      <td>6.0</td>\n",
       "      <td>crumpet</td>\n",
       "      <td>3.19</td>\n",
       "      <td>[2019-09-14 Sat]</td>\n",
       "      <td>Monterey Market, Berkeley</td>\n",
       "      <td>45324369</td>\n",
       "      <td>0.531667</td>\n",
       "    </tr>\n",
       "    <tr>\n",
       "      <th>3</th>\n",
       "      <td>Bananas</td>\n",
       "      <td>1.0</td>\n",
       "      <td>pound</td>\n",
       "      <td>3.15</td>\n",
       "      <td>[2019-09-14 Sat]</td>\n",
       "      <td>Monterey Market, Berkeley</td>\n",
       "      <td>9040</td>\n",
       "      <td>3.150000</td>\n",
       "    </tr>\n",
       "    <tr>\n",
       "      <th>4</th>\n",
       "      <td>Carrots, Organic</td>\n",
       "      <td>2.0</td>\n",
       "      <td>pound</td>\n",
       "      <td>2.29</td>\n",
       "      <td>[2019-09-14 Sat]</td>\n",
       "      <td>Monterey Market, Berkeley</td>\n",
       "      <td>11124</td>\n",
       "      <td>1.145000</td>\n",
       "    </tr>\n",
       "  </tbody>\n",
       "</table>\n",
       "</div>"
      ],
      "text/plain": [
       "                Food  Quantity    Units  Price              Date  \\\n",
       "0       Milk, 2% fat       1.0   gallon   4.99  [2019-09-14 Sat]   \n",
       "1  Eggs, extra large      12.0   xl_egg   3.59  [2019-09-14 Sat]   \n",
       "2           Crumpets       6.0  crumpet   3.19  [2019-09-14 Sat]   \n",
       "3            Bananas       1.0    pound   3.15  [2019-09-14 Sat]   \n",
       "4   Carrots, Organic       2.0    pound   2.29  [2019-09-14 Sat]   \n",
       "\n",
       "                    Location       NDB  Unit Price  \n",
       "0  Monterey Market, Berkeley  45226447    4.990000  \n",
       "1  Monterey Market, Berkeley  45208918    0.299167  \n",
       "2  Monterey Market, Berkeley  45324369    0.531667  \n",
       "3  Monterey Market, Berkeley      9040    3.150000  \n",
       "4  Monterey Market, Berkeley     11124    1.145000  "
      ]
     },
     "execution_count": 11,
     "metadata": {},
     "output_type": "execute_result"
    }
   ],
   "source": [
    "# This line creates a new column in our dataframe named 'Unit Price' and populates each row with the respective price value \n",
    "# divided by the quantity value.\n",
    "df['Unit Price'] = df['Price']/df['Quantity']\n",
    "df.head()"
   ]
  },
  {
   "cell_type": "markdown",
   "metadata": {},
   "source": [
    "Almost there! Let&rsquo;s pare down our dataframe to look more friendly to the eye. We\n",
    "don&rsquo;t want to see the following columns: Date, Location, NDB. Also, we only want to see\n",
    "the first five items of the dataframe. \n",
    "\n",
    "In the previous blocks, we used .iloc which stands for index (or integer) location. We used integers to specify which\n",
    "columns we wanted. In this section, we&rsquo;ll use .loc which allows us to use column labels. For extra practice, try to\n",
    "achieve the same result but by using .iloc instead.\n",
    "\n"
   ]
  },
  {
   "cell_type": "code",
   "execution_count": 12,
   "metadata": {},
   "outputs": [
    {
     "data": {
      "text/html": [
       "<div>\n",
       "<style scoped>\n",
       "    .dataframe tbody tr th:only-of-type {\n",
       "        vertical-align: middle;\n",
       "    }\n",
       "\n",
       "    .dataframe tbody tr th {\n",
       "        vertical-align: top;\n",
       "    }\n",
       "\n",
       "    .dataframe thead th {\n",
       "        text-align: right;\n",
       "    }\n",
       "</style>\n",
       "<table border=\"1\" class=\"dataframe\">\n",
       "  <thead>\n",
       "    <tr style=\"text-align: right;\">\n",
       "      <th></th>\n",
       "      <th>Food</th>\n",
       "      <th>Quantity</th>\n",
       "      <th>Units</th>\n",
       "      <th>Price</th>\n",
       "      <th>Unit Price</th>\n",
       "    </tr>\n",
       "  </thead>\n",
       "  <tbody>\n",
       "    <tr>\n",
       "      <th>0</th>\n",
       "      <td>Milk, 2% fat</td>\n",
       "      <td>1.00</td>\n",
       "      <td>gallon</td>\n",
       "      <td>4.99</td>\n",
       "      <td>4.990000</td>\n",
       "    </tr>\n",
       "    <tr>\n",
       "      <th>1</th>\n",
       "      <td>Eggs, extra large</td>\n",
       "      <td>12.00</td>\n",
       "      <td>xl_egg</td>\n",
       "      <td>3.59</td>\n",
       "      <td>0.299167</td>\n",
       "    </tr>\n",
       "    <tr>\n",
       "      <th>2</th>\n",
       "      <td>Crumpets</td>\n",
       "      <td>6.00</td>\n",
       "      <td>crumpet</td>\n",
       "      <td>3.19</td>\n",
       "      <td>0.531667</td>\n",
       "    </tr>\n",
       "    <tr>\n",
       "      <th>3</th>\n",
       "      <td>Bananas</td>\n",
       "      <td>1.00</td>\n",
       "      <td>pound</td>\n",
       "      <td>3.15</td>\n",
       "      <td>3.150000</td>\n",
       "    </tr>\n",
       "    <tr>\n",
       "      <th>4</th>\n",
       "      <td>Carrots, Organic</td>\n",
       "      <td>2.00</td>\n",
       "      <td>pound</td>\n",
       "      <td>2.29</td>\n",
       "      <td>1.145000</td>\n",
       "    </tr>\n",
       "    <tr>\n",
       "      <th>5</th>\n",
       "      <td>Cauliflower</td>\n",
       "      <td>2.51</td>\n",
       "      <td>pound</td>\n",
       "      <td>4.24</td>\n",
       "      <td>1.689243</td>\n",
       "    </tr>\n",
       "  </tbody>\n",
       "</table>\n",
       "</div>"
      ],
      "text/plain": [
       "                Food  Quantity    Units  Price  Unit Price\n",
       "0       Milk, 2% fat      1.00   gallon   4.99    4.990000\n",
       "1  Eggs, extra large     12.00   xl_egg   3.59    0.299167\n",
       "2           Crumpets      6.00  crumpet   3.19    0.531667\n",
       "3            Bananas      1.00    pound   3.15    3.150000\n",
       "4   Carrots, Organic      2.00    pound   2.29    1.145000\n",
       "5        Cauliflower      2.51    pound   4.24    1.689243"
      ]
     },
     "execution_count": 12,
     "metadata": {},
     "output_type": "execute_result"
    }
   ],
   "source": [
    "# Note that in both the .iloc and .loc syntax, the first set of parameters refer to rows and the second set refer to columns.\n",
    "df.loc[0:5, ['Food', 'Quantity', 'Units', 'Price', 'Unit Price']]"
   ]
  },
  {
   "cell_type": "markdown",
   "metadata": {},
   "source": [
    "Here&rsquo;s one last exercise that might be useful. Often times you will only want to view data\n",
    "that fits a certain criterion. In this case, let&rsquo;s only look at items where the unit price\n",
    "is less than 1.\n",
    "\n"
   ]
  },
  {
   "cell_type": "code",
   "execution_count": 13,
   "metadata": {},
   "outputs": [
    {
     "data": {
      "text/html": [
       "<div>\n",
       "<style scoped>\n",
       "    .dataframe tbody tr th:only-of-type {\n",
       "        vertical-align: middle;\n",
       "    }\n",
       "\n",
       "    .dataframe tbody tr th {\n",
       "        vertical-align: top;\n",
       "    }\n",
       "\n",
       "    .dataframe thead th {\n",
       "        text-align: right;\n",
       "    }\n",
       "</style>\n",
       "<table border=\"1\" class=\"dataframe\">\n",
       "  <thead>\n",
       "    <tr style=\"text-align: right;\">\n",
       "      <th></th>\n",
       "      <th>Food</th>\n",
       "      <th>Quantity</th>\n",
       "      <th>Units</th>\n",
       "      <th>Price</th>\n",
       "      <th>Date</th>\n",
       "      <th>Location</th>\n",
       "      <th>NDB</th>\n",
       "      <th>Unit Price</th>\n",
       "    </tr>\n",
       "  </thead>\n",
       "  <tbody>\n",
       "    <tr>\n",
       "      <th>1</th>\n",
       "      <td>Eggs, extra large</td>\n",
       "      <td>12.0</td>\n",
       "      <td>xl_egg</td>\n",
       "      <td>3.59</td>\n",
       "      <td>[2019-09-14 Sat]</td>\n",
       "      <td>Monterey Market, Berkeley</td>\n",
       "      <td>45208918</td>\n",
       "      <td>0.299167</td>\n",
       "    </tr>\n",
       "    <tr>\n",
       "      <th>2</th>\n",
       "      <td>Crumpets</td>\n",
       "      <td>6.0</td>\n",
       "      <td>crumpet</td>\n",
       "      <td>3.19</td>\n",
       "      <td>[2019-09-14 Sat]</td>\n",
       "      <td>Monterey Market, Berkeley</td>\n",
       "      <td>45324369</td>\n",
       "      <td>0.531667</td>\n",
       "    </tr>\n",
       "    <tr>\n",
       "      <th>11</th>\n",
       "      <td>Onion, yellow</td>\n",
       "      <td>1.0</td>\n",
       "      <td>pound</td>\n",
       "      <td>0.39</td>\n",
       "      <td>[2019-09-14 Sat]</td>\n",
       "      <td>Monterey Market, Berkeley</td>\n",
       "      <td>45339306</td>\n",
       "      <td>0.390000</td>\n",
       "    </tr>\n",
       "    <tr>\n",
       "      <th>16</th>\n",
       "      <td>Potato, russet</td>\n",
       "      <td>10.0</td>\n",
       "      <td>pound</td>\n",
       "      <td>2.98</td>\n",
       "      <td>[2019-09-14 Sat]</td>\n",
       "      <td>Monterey Market, Berkeley</td>\n",
       "      <td>45364251</td>\n",
       "      <td>0.298000</td>\n",
       "    </tr>\n",
       "  </tbody>\n",
       "</table>\n",
       "</div>"
      ],
      "text/plain": [
       "                 Food  Quantity    Units  Price              Date  \\\n",
       "1   Eggs, extra large      12.0   xl_egg   3.59  [2019-09-14 Sat]   \n",
       "2            Crumpets       6.0  crumpet   3.19  [2019-09-14 Sat]   \n",
       "11      Onion, yellow       1.0    pound   0.39  [2019-09-14 Sat]   \n",
       "16     Potato, russet      10.0    pound   2.98  [2019-09-14 Sat]   \n",
       "\n",
       "                     Location       NDB  Unit Price  \n",
       "1   Monterey Market, Berkeley  45208918    0.299167  \n",
       "2   Monterey Market, Berkeley  45324369    0.531667  \n",
       "11  Monterey Market, Berkeley  45339306    0.390000  \n",
       "16  Monterey Market, Berkeley  45364251    0.298000  "
      ]
     },
     "execution_count": 13,
     "metadata": {},
     "output_type": "execute_result"
    }
   ],
   "source": [
    "# This line will return all rows in the dataframe where the Unit Price is < 1. Using what we've covered prior,\n",
    "# modify the view of this dataframe to only include Food and Unit Price.\n",
    "df[df['Unit Price'] < 1]"
   ]
  },
  {
   "cell_type": "markdown",
   "metadata": {},
   "source": [
    "Extra things to refresh that may be helpful for Project 1: basic visualizations, datatypes, index, joins.\n",
    "\n"
   ]
  },
  {
   "cell_type": "markdown",
   "metadata": {},
   "source": [
    "#### Final words\n",
    "\n"
   ]
  },
  {
   "cell_type": "markdown",
   "metadata": {},
   "source": [
    "Throughout this class, you will be exposed to a variety of Python modules and tools and the data that you work with\n",
    "may or may not be cleaned. In any case, learning how to find and use online documentation/resources is a\n",
    "valuable skill that will benefit you greatly in this course and beyond. Be sure to utilize our course `piazza`\n",
    "for any questions you might have - there&rsquo;s a good chance a peer may have a similar question or have the answer.\n",
    "As the semester goes on, course staff will update the &ldquo;Useful Links/Resources&rdquo; post with any outside Python resources \n",
    "that may be helpful for the whole class.\n",
    "\n"
   ]
  }
 ],
 "metadata": {
  "kernelspec": {
   "display_name": "Python 3",
   "language": "python",
   "name": "python3"
  },
  "language_info": {
   "codemirror_mode": {
    "name": "ipython",
    "version": 3
   },
   "file_extension": ".py",
   "mimetype": "text/x-python",
   "name": "python",
   "nbconvert_exporter": "python",
   "pygments_lexer": "ipython3",
   "version": "3.6.9"
  },
  "org": null
 },
 "nbformat": 4,
 "nbformat_minor": 1
}
