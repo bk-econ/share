{
 "cells": [
  {
   "cell_type": "markdown",
   "metadata": {},
   "source": [
    "# HFUL Estimator and Single Instrument IV exercise"
   ]
  },
  {
   "cell_type": "code",
   "execution_count": 116,
   "metadata": {},
   "outputs": [],
   "source": [
    "import statistics as stats\n",
    "import numpy as np\n",
    "import scipy.linalg as la\n",
    "import matplotlib.pyplot as plt\n",
    "from scipy.stats import distributions as iid\n",
    "import pandas as pd\n"
   ]
  },
  {
   "cell_type": "markdown",
   "metadata": {},
   "source": [
    "## Data generation processes\n",
    "\n",
    "We now perform a monte-carlo analysis to compare the results of our estimators. "
   ]
  },
  {
   "cell_type": "code",
   "execution_count": 91,
   "metadata": {},
   "outputs": [],
   "source": [
    "def draw_b_ols(N,dgp):\n",
    "    \"\"\"\n",
    "    Generate a random variate $b$ from a sample of $N$ draws from selected DGP.\n",
    "    \"\"\"\n",
    "    y,X,Z =  dgp(N)\n",
    "    \n",
    "    return np.linalg.solve(X.T@X,X.T@y) # Solve normal eqs"
   ]
  },
  {
   "cell_type": "code",
   "execution_count": 92,
   "metadata": {},
   "outputs": [],
   "source": [
    "def draw_b_iv(N,dgp):\n",
    "    \"\"\"\n",
    "    Generate a random variate $b$ from a sample of $N$ draws from selected DGP.\n",
    "    \"\"\"\n",
    "    y,X,Z =  dgp(N)\n",
    "\n",
    "    return np.linalg.solve(Z.T@X,Z.T@y) # Solve normal eqs"
   ]
  },
  {
   "cell_type": "code",
   "execution_count": 93,
   "metadata": {},
   "outputs": [],
   "source": [
    "def draw_b_hful(N,dgp):\n",
    "    \"\"\"\n",
    "    Generate a random variate $b$ from a sample of $N$ draws from selected DGP.\n",
    "    \"\"\"\n",
    "    XXinv,Xy =  dgp(N)\n",
    "    print(XXinv)\n",
    "    print(Xy)\n",
    "\n",
    "    return la.inv(XXinv) @ Xy # Solve normal eqs"
   ]
  },
  {
   "cell_type": "markdown",
   "metadata": {},
   "source": [
    "### Single instrument dgp"
   ]
  },
  {
   "cell_type": "code",
   "execution_count": 94,
   "metadata": {},
   "outputs": [],
   "source": [
    "iterations = 1000 # number of simulations\n",
    "N = 100 # number of obs - want to test finite samples\n",
    "beta = 1 # true beta value\n",
    "pi = 0.8 # how strong is the instrument?\n",
    "gamma = 0.5 # effect of unobserved variable on X\n",
    "beta_endo = 1\n",
    "\n",
    "\n",
    "def single_dgp(N,beta,gamma,pi,sigma_u,sigma_v):\n",
    "    u = iid.norm(scale=sigma_u).rvs(N)\n",
    "    v = iid.norm(scale=sigma_v).rvs(N)\n",
    "    Z = iid.norm().rvs(N)\n",
    "    w = iid.norm().rvs(N) # unobserved 'omitted variable'\n",
    "    \n",
    "\n",
    "    X = Z*pi + gamma*w + v # define X\n",
    "    y = X*beta + w + np.multiply(X, u) # define y; X is correlated with u & heteroskedasticity\n",
    "   \n",
    "    df = pd.DataFrame({'y':y,'x':X,'z':Z,'Constant':1})\n",
    "\n",
    "    return df[['y']],df[['Constant','x']],df[['Constant','z']]"
   ]
  },
  {
   "cell_type": "markdown",
   "metadata": {},
   "source": [
    "### HFUL dgp"
   ]
  },
  {
   "cell_type": "code",
   "execution_count": 108,
   "metadata": {},
   "outputs": [],
   "source": [
    "def hful(y, X, Z):\n",
    "    \"\"\"HFUL estimator\"\"\"\n",
    "    P = Z @ la.inv(Z.T @ Z) @ Z.T\n",
    "    # Extract the diagonal of P, make it a diagonal matrix\n",
    "    P_diag = np.diag(P.diagonal())\n",
    "    Xbar = np.column_stack((y, X))\n",
    "    \n",
    "    # construct the components of the A matrix\n",
    "    barXXinv = la.inv(Xbar.T @ Xbar)\n",
    "    barXPX = Xbar.T @ P @ Xbar\n",
    "    barXdiagPX = Xbar.T @ P_diag @ Xbar\n",
    "    \n",
    "    # calculate the A matrix and take its smallest eigenvalue; calculate alphahat\n",
    "    alphatilde = min(np.linalg.eig(barXXinv @ (barXPX - barXdiagPX))[0])\n",
    "    alphahat = (alphatilde - (1-alphatilde)/n) / (1 - (1-alphatilde)/n)\n",
    "    \n",
    "    # construct the components of betaHat\n",
    "    XXinv = X.T @ P @ X - X.T @ P_diag @ X - alphahat * X.T @ X\n",
    "    Xy = X.T @ P @ y - X.T @ P_diag @ y - alphahat * X.T @ y\n",
    "    \n",
    "    return la.inv(XXinv) @ Xy\n",
    "\n",
    "list_beta = []\n",
    "\n",
    "for i in range(iterations):\n",
    "    u = iid.norm().rvs(N)\n",
    "    v = iid.norm().rvs(N)\n",
    "    Z = iid.norm().rvs(N) # Z independent, for now one variable\n",
    "    w = iid.norm().rvs(N) # unobserved 'omitted variable'\n",
    "    \n",
    "    constant = np.ones(N) # to add to X and Z\n",
    "    \n",
    "    X = Z*pi + gamma*w + v # define X\n",
    "    Xmat = np.column_stack((constant,X)) # make matrix\n",
    "    y = X*beta + w + np.multiply(X, u) # define y; X is correlated with u & heteroskedasticity\n",
    "    Zmat = np.column_stack((constant,Z)) # make Z matrix\n",
    "\n",
    "    # calculate estimates\n",
    "    res = hful(y,Xmat,Zmat)\n",
    "    list_beta.append(res)\n",
    "    b_HFUL = pd.DataFrame(list_beta).iloc[:,1]"
   ]
  },
  {
   "cell_type": "markdown",
   "metadata": {},
   "source": [
    "## Plotting - Estimators with one instrument"
   ]
  },
  {
   "cell_type": "markdown",
   "metadata": {},
   "source": [
    "Define plotting function"
   ]
  },
  {
   "cell_type": "code",
   "execution_count": 96,
   "metadata": {},
   "outputs": [],
   "source": [
    "def graph_hist(data, caption):\n",
    "    \"\"\"Plot a histogram of the relevant data\"\"\"\n",
    "    plt.hist(data, bins='auto')\n",
    "    plt.title(caption)\n",
    "    plt.axvline(stats.mean(data), color='k', linestyle='dashed', linewidth=1)\n",
    "    plt.axvline(beta_endo, color='r', linestyle='dashed', linewidth=1)\n",
    "    plt.show()\n",
    "    print(\"Estimate:\", stats.mean(data))"
   ]
  },
  {
   "cell_type": "markdown",
   "metadata": {},
   "source": [
    "## IV Single Instrument"
   ]
  },
  {
   "cell_type": "code",
   "execution_count": 118,
   "metadata": {},
   "outputs": [],
   "source": [
    "B = pd.DataFrame([draw_b_iv(N,lambda N: single_dgp(N,1,0,.01,1,1))[1] for i in range(iterations)]).values.tolist()\n",
    "beta_iv_single = [val for sublist in B for val in sublist]"
   ]
  },
  {
   "cell_type": "code",
   "execution_count": 98,
   "metadata": {},
   "outputs": [
    {
     "data": {
      "image/png": "[encoded data removed]",
      "text/plain": [
       "<Figure size 432x288 with 1 Axes>"
      ]
     },
     "metadata": {
      "needs_background": "light"
     },
     "output_type": "display_data"
    },
    {
     "name": "stdout",
     "output_type": "stream",
     "text": [
      "Estimate: 1.273274813576752\n"
     ]
    }
   ],
   "source": [
    "graph_hist(beta_iv_single, r\"Histogram of $\\hat{\\beta}_{OLS}$ Estimates\")"
   ]
  },
  {
   "cell_type": "markdown",
   "metadata": {},
   "source": [
    "## OLS"
   ]
  },
  {
   "cell_type": "code",
   "execution_count": 99,
   "metadata": {},
   "outputs": [],
   "source": [
    "B = pd.DataFrame([draw_b_ols(N,lambda N: single_dgp(N,1,0,.01,1,1))[1] for i in range(iterations)]).values.tolist()\n",
    "beta_OLS = [val for sublist in B for val in sublist]"
   ]
  },
  {
   "cell_type": "code",
   "execution_count": 100,
   "metadata": {},
   "outputs": [
    {
     "data": {
      "image/png": "[encoded data removed]",
      "text/plain": [
       "<Figure size 432x288 with 1 Axes>"
      ]
     },
     "metadata": {
      "needs_background": "light"
     },
     "output_type": "display_data"
    },
    {
     "name": "stdout",
     "output_type": "stream",
     "text": [
      "Estimate: 0.9921495282559117\n"
     ]
    }
   ],
   "source": [
    "graph_hist(beta_OLS, r\"Histogram of $\\hat{\\beta}_{OLS}$ Estimates\")"
   ]
  },
  {
   "cell_type": "markdown",
   "metadata": {},
   "source": [
    "## HFUL"
   ]
  },
  {
   "cell_type": "code",
   "execution_count": 115,
   "metadata": {},
   "outputs": [
    {
     "data": {
      "image/png": "[encoded data removed]",
      "text/plain": [
       "<Figure size 432x288 with 1 Axes>"
      ]
     },
     "metadata": {
      "needs_background": "light"
     },
     "output_type": "display_data"
    },
    {
     "name": "stdout",
     "output_type": "stream",
     "text": [
      "Estimate: 0.9805454513668562\n"
     ]
    }
   ],
   "source": [
    "graph_hist(b_HFUL, r\"Histogram of $\\hat{\\beta}_{HFUL}$ Estimates, One Instrument\")\n"
   ]
  }
 ],
 "metadata": {
  "kernelspec": {
   "display_name": "Python 3",
   "language": "python",
   "name": "python3"
  },
  "language_info": {
   "codemirror_mode": {
    "name": "ipython",
    "version": 3
   },
   "file_extension": ".py",
   "mimetype": "text/x-python",
   "name": "python",
   "nbconvert_exporter": "python",
   "pygments_lexer": "ipython3",
   "version": "3.6.9"
  }
 },
 "nbformat": 4,
 "nbformat_minor": 4
}
